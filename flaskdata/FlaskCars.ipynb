{
 "cells": [
  {
   "cell_type": "code",
   "execution_count": 1,
   "metadata": {},
   "outputs": [],
   "source": [
    "from tensorflow.keras.models import load_model\n",
    "from flask import Flask,request, jsonify\n",
    "import os\n",
    "import numpy as np\n",
    "import uuid\n",
    "app = Flask(__name__)"
   ]
  },
  {
   "cell_type": "code",
   "execution_count": 2,
   "metadata": {},
   "outputs": [],
   "source": [
    "Expected = {\n",
    "\"cylinders\":{\"min\":3,\"max\":8},\n",
    "\"displacement\":{\"min\":68.0,\"max\":455.0},\n",
    "\"horsepower\":{\"min\":46.0,\"max\":230.0},\n",
    "\"weight\":{\"min\":1613,\"max\":5140},\n",
    "\"acceleration\":{\"min\":8.0,\"max\":24.8},\n",
    "\"year\":{\"min\":70,\"max\":82},\n",
    "\"origin\":{\"min\":1,\"max\":3}\n",
    "}"
   ]
  },
  {
   "cell_type": "code",
   "execution_count": 3,
   "metadata": {},
   "outputs": [],
   "source": [
    "os.chdir(r'C:\\Users\\danie\\Desktop\\Flask UdemyKurs')\n",
    "\n",
    "model = load_model(os.path.join(os.getcwd(),\"mpg_model.h5\"))"
   ]
  },
  {
   "cell_type": "code",
   "execution_count": 4,
   "metadata": {
    "scrolled": false
   },
   "outputs": [
    {
     "name": "stdout",
     "output_type": "stream",
     "text": [
      "Model: \"sequential\"\n",
      "_________________________________________________________________\n",
      "Layer (type)                 Output Shape              Param #   \n",
      "=================================================================\n",
      "dense (Dense)                (None, 25)                200       \n",
      "_________________________________________________________________\n",
      "dense_1 (Dense)              (None, 10)                260       \n",
      "_________________________________________________________________\n",
      "dense_2 (Dense)              (None, 1)                 11        \n",
      "=================================================================\n",
      "Total params: 471\n",
      "Trainable params: 471\n",
      "Non-trainable params: 0\n",
      "_________________________________________________________________\n"
     ]
    }
   ],
   "source": [
    "model.summary()"
   ]
  },
  {
   "cell_type": "code",
   "execution_count": 5,
   "metadata": {},
   "outputs": [
    {
     "name": "stdout",
     "output_type": "stream",
     "text": [
      " * Serving Flask app \"__main__\" (lazy loading)\n",
      " * Environment: production\n",
      "   WARNING: Do not use the development server in a production environment.\n",
      "   Use a production WSGI server instead.\n",
      " * Debug mode: on\n"
     ]
    }
   ],
   "source": [
    "@app.route('/api', methods=['POST'])\n",
    "def mpg_prediction():\n",
    "    content = request.json\n",
    "    errors = []\n",
    "    for name in content:\n",
    "        if name in Expected:\n",
    "            expected_min = Expected[name]['min']\n",
    "            expected_max = Expected[name]['max']\n",
    "            value = content[name]\n",
    "            if value < expected_min or value > expected_max:\n",
    "                errors.append(f\"Out of bounds: {name}, has value of: {value}, but it should be between {expected_min} and {expected_max}.\")\n",
    "        else:\n",
    "            errors.append(f\"Unexpected field: {name}.\")\n",
    "    for name in Expected:\n",
    "        if name not in content:\n",
    "            errors.append(f\"Missing_value:{name}\")\n",
    "    if len(errors)<1:\n",
    "        x= np.zeros((1,7))\n",
    "        \n",
    "        x[0,0] = content['cylinders']\n",
    "        x[0,1] = content['displacement']\n",
    "        x[0,2] = content['horsepower']\n",
    "        x[0,3] = content['weight']\n",
    "        x[0,4] = content['acceleration']\n",
    "        x[0,5] = content['year']\n",
    "        x[0,6] = content['origin']\n",
    "        \n",
    "        prediction = model.predict(x)\n",
    "        mpg = float(prediction[0])\n",
    "        response = {\"id\": str(uuid.uuid4()), \"mpg\": mpg,\"errors\":errors}\n",
    "    else:\n",
    "        response = {\"id\": str(uuid.uuid4()), \"errrors\": errors}\n",
    "        \n",
    "    return jsonify(response)\n",
    "\n",
    "if __name__ == '__main__':\n",
    "    app.run(debug=True, use_reloader=False)\n",
    "                "
   ]
  }
 ],
 "metadata": {
  "kernelspec": {
   "display_name": "Python 3",
   "language": "python",
   "name": "python3"
  },
  "language_info": {
   "codemirror_mode": {
    "name": "ipython",
    "version": 3
   },
   "file_extension": ".py",
   "mimetype": "text/x-python",
   "name": "python",
   "nbconvert_exporter": "python",
   "pygments_lexer": "ipython3",
   "version": "3.7.3"
  }
 },
 "nbformat": 4,
 "nbformat_minor": 2
}
