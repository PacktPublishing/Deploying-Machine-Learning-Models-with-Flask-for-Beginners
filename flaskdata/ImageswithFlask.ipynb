{
 "cells": [
  {
   "cell_type": "code",
   "execution_count": 2,
   "metadata": {},
   "outputs": [],
   "source": [
    "from flask import Flask, request, jsonify, url_for, render_template\n",
    "import uuid\n",
    "import os\n",
    "from tensorflow.keras.models import load_model\n",
    "import numpy as np\n",
    "from werkzeug import secure_filename\n",
    "from tensorflow.keras.applications import MobileNet\n",
    "from PIL import Image, ImageFile\n",
    "from io import BytesIO\n",
    "from tensorflow.keras.preprocessing import image\n",
    "from tensorflow.keras.applications.mobilenet import preprocess_input\n",
    "from tensorflow.keras.applications.mobilenet import decode_predictions\n"
   ]
  },
  {
   "cell_type": "code",
   "execution_count": 3,
   "metadata": {},
   "outputs": [],
   "source": [
    "ALLOWED_EXTENSION  =set(['txt', 'pdf', 'png','jpg','jpeg','gif'])\n",
    "IMAGE_HEIGHT =224\n",
    "IMAGE_WIDTH = 224\n",
    "IMAGE_CHANNELS = 3\n",
    "os.chdir(r'C:\\Users\\danie\\Desktop\\Flask UdemyKurs')"
   ]
  },
  {
   "cell_type": "code",
   "execution_count": 4,
   "metadata": {},
   "outputs": [],
   "source": [
    "def allowed_file(filename):\n",
    "    return '.' in filename and \\\n",
    "     filename.rsplit('.',1)[1] in ALLOWED_EXTENSION"
   ]
  },
  {
   "cell_type": "code",
   "execution_count": null,
   "metadata": {},
   "outputs": [
    {
     "name": "stdout",
     "output_type": "stream",
     "text": [
      " * Serving Flask app \"__main__\" (lazy loading)\n",
      " * Environment: production\n",
      "   WARNING: Do not use the development server in a production environment.\n",
      "   Use a production WSGI server instead.\n",
      " * Debug mode: on\n"
     ]
    },
    {
     "name": "stderr",
     "output_type": "stream",
     "text": [
      "Traceback (most recent call last):\n",
      "  File \"C:\\Users\\danie\\Anaconda3\\lib\\site-packages\\flask\\app.py\", line 2309, in __call__\n",
      "    return self.wsgi_app(environ, start_response)\n",
      "  File \"C:\\Users\\danie\\Anaconda3\\lib\\site-packages\\flask\\app.py\", line 2295, in wsgi_app\n",
      "    response = self.handle_exception(e)\n",
      "  File \"C:\\Users\\danie\\Anaconda3\\lib\\site-packages\\flask\\app.py\", line 1741, in handle_exception\n",
      "    reraise(exc_type, exc_value, tb)\n",
      "  File \"C:\\Users\\danie\\Anaconda3\\lib\\site-packages\\flask\\_compat.py\", line 35, in reraise\n",
      "    raise value\n",
      "  File \"C:\\Users\\danie\\Anaconda3\\lib\\site-packages\\flask\\app.py\", line 2292, in wsgi_app\n",
      "    response = self.full_dispatch_request()\n",
      "  File \"C:\\Users\\danie\\Anaconda3\\lib\\site-packages\\flask\\app.py\", line 1815, in full_dispatch_request\n",
      "    rv = self.handle_user_exception(e)\n",
      "  File \"C:\\Users\\danie\\Anaconda3\\lib\\site-packages\\flask\\app.py\", line 1718, in handle_user_exception\n",
      "    reraise(exc_type, exc_value, tb)\n",
      "  File \"C:\\Users\\danie\\Anaconda3\\lib\\site-packages\\flask\\_compat.py\", line 35, in reraise\n",
      "    raise value\n",
      "  File \"C:\\Users\\danie\\Anaconda3\\lib\\site-packages\\flask\\app.py\", line 1813, in full_dispatch_request\n",
      "    rv = self.dispatch_request()\n",
      "  File \"C:\\Users\\danie\\Anaconda3\\lib\\site-packages\\flask\\app.py\", line 1799, in dispatch_request\n",
      "    return self.view_functions[rule.endpoint](**req.view_args)\n",
      "  File \"<ipython-input-5-0d02da2ab072>\", line 6, in index\n",
      "    \n",
      "  File \"C:\\Users\\danie\\Anaconda3\\lib\\site-packages\\flask\\templating.py\", line 135, in render_template\n",
      "    context, ctx.app)\n",
      "  File \"C:\\Users\\danie\\Anaconda3\\lib\\site-packages\\flask\\templating.py\", line 117, in _render\n",
      "    rv = template.render(context)\n",
      "  File \"C:\\Users\\danie\\Anaconda3\\lib\\site-packages\\jinja2\\asyncsupport.py\", line 76, in render\n",
      "    return original_render(self, *args, **kwargs)\n",
      "  File \"C:\\Users\\danie\\Anaconda3\\lib\\site-packages\\jinja2\\environment.py\", line 1008, in render\n",
      "    return self.environment.handle_exception(exc_info, True)\n",
      "  File \"C:\\Users\\danie\\Anaconda3\\lib\\site-packages\\jinja2\\environment.py\", line 780, in handle_exception\n",
      "    reraise(exc_type, exc_value, tb)\n",
      "  File \"C:\\Users\\danie\\Anaconda3\\lib\\site-packages\\jinja2\\_compat.py\", line 37, in reraise\n",
      "    raise value.with_traceback(tb)\n",
      "  File \"C:\\Users\\danie\\Desktop\\Flask UdemyKurs\\templates\\ImageML.html\", line 22, in top-level template code\n",
      "    <form action=\"{{ url_for('upload_image5')}}\" method=\"POST\" enctype=\"multipart/form-data\">\n",
      "  File \"C:\\Users\\danie\\Anaconda3\\lib\\site-packages\\flask\\helpers.py\", line 356, in url_for\n",
      "    return appctx.app.handle_url_build_error(error, endpoint, values)\n",
      "  File \"C:\\Users\\danie\\Anaconda3\\lib\\site-packages\\flask\\app.py\", line 2061, in handle_url_build_error\n",
      "    reraise(exc_type, exc_value, tb)\n",
      "  File \"C:\\Users\\danie\\Anaconda3\\lib\\site-packages\\flask\\_compat.py\", line 35, in reraise\n",
      "    raise value\n",
      "  File \"C:\\Users\\danie\\Anaconda3\\lib\\site-packages\\flask\\helpers.py\", line 345, in url_for\n",
      "    force_external=external)\n",
      "  File \"C:\\Users\\danie\\Anaconda3\\lib\\site-packages\\werkzeug\\routing.py\", line 1776, in build\n",
      "    raise BuildError(endpoint, values, method, self)\n",
      "werkzeug.routing.BuildError: Could not build url for endpoint 'upload_image5'. Did you mean 'upload_image' instead?\n"
     ]
    },
    {
     "name": "stdout",
     "output_type": "stream",
     "text": [
      "***1_yGDZqNVkJINY61ONFV-aiA.jpeg\n",
      "***myimage.jpeg\n",
      "***myimage.jpeg\n",
      "***myimage.jpeg\n"
     ]
    }
   ],
   "source": [
    "app = Flask(__name__)\n",
    "model = MobileNet(weights='imagenet', include_top=True)\n",
    "\n",
    "@app.route('/index')\n",
    "def index():\n",
    "    return render_template('ImageML.html')\n",
    "\n",
    "@app.route('/api/image', methods=['POST'])\n",
    "def upload_image():\n",
    "    if 'image' not in request.files:\n",
    "        return render_template('ImageML.html', prediction='No posted image. Should be attribute named image')\n",
    "    file = request.files['image']\n",
    "    \n",
    "    if file.filename =='':\n",
    "        return render_template('ImageML.html', prediction = 'You did not select an image')\n",
    "    \n",
    "    if file and allowed_file(file.filename):\n",
    "        filename = secure_filename(file.filename)\n",
    "        print(\"***\"+filename)\n",
    "        x = []\n",
    "        ImageFile.LOAD_TRUNCATED_IMAGES = False\n",
    "        img = Image.open(BytesIO(file.read()))\n",
    "        img.load()\n",
    "        img  = img.resize((IMAGE_WIDTH, IMAGE_HEIGHT), Image.ANTIALIAS)\n",
    "        x  = image.img_to_array(img)\n",
    "        x = np.expand_dims(x, axis=0)\n",
    "        x  = preprocess_input(x)\n",
    "        pred = model.predict(x)\n",
    "        lst =  decode_predictions(pred, top=3)\n",
    "        \n",
    "        items = []\n",
    "        for item in lst[0]:\n",
    "            items.append({'name': item[1], 'prob': float(item[2])})\n",
    "        \n",
    "        response = {'pred': items}\n",
    "        return render_template('ImageML.html', prediction = 'I would say the image is most likely {}'.format(response))\n",
    "    else:\n",
    "        return render_template('ImageML.html', prediction = 'Invalid File extension')\n",
    "\n",
    "if __name__ == '__main__':\n",
    "    app.run(debug=True, use_reloader=False)\n",
    "            "
   ]
  }
 ],
 "metadata": {
  "kernelspec": {
   "display_name": "Python 3",
   "language": "python",
   "name": "python3"
  },
  "language_info": {
   "codemirror_mode": {
    "name": "ipython",
    "version": 3
   },
   "file_extension": ".py",
   "mimetype": "text/x-python",
   "name": "python",
   "nbconvert_exporter": "python",
   "pygments_lexer": "ipython3",
   "version": "3.7.3"
  }
 },
 "nbformat": 4,
 "nbformat_minor": 2
}
